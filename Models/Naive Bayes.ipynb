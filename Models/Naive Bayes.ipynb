{
 "cells": [
  {
   "cell_type": "markdown",
   "metadata": {},
   "source": [
    "# Step 1: Installation and Setup"
   ]
  },
  {
   "cell_type": "code",
   "execution_count": 2,
   "metadata": {},
   "outputs": [],
   "source": [
    "import tensorflow as tf\n",
    "import numpy as np\n",
    "import pandas as pd\n",
    "import matplotlib.pyplot as plt\n",
    "from PIL import Image\n",
    "import os, sys\n",
    "from sklearn.metrics import accuracy_score, f1_score, recall_score, precision_score, classification_report\n",
    "from sklearn.model_selection import train_test_split\n",
    "from sklearn.naive_bayes import GaussianNB"
   ]
  },
  {
   "cell_type": "markdown",
   "metadata": {},
   "source": [
    "# Step 2: Data Preprocessing"
   ]
  },
  {
   "cell_type": "code",
   "execution_count": 3,
   "metadata": {},
   "outputs": [
    {
     "name": "stdout",
     "output_type": "stream",
     "text": [
      "Done\n"
     ]
    }
   ],
   "source": [
    "# Importing the dataset \n",
    "from PIL import Image\n",
    "import os, sys\n",
    "path = \".\"\n",
    "\n",
    "dirs_train_o = os.listdir(path + \"/TRAIN/O\")\n",
    "dirs_train_r = os.listdir(path + \"/TRAIN/R\")\n",
    "dirs_test_o = os.listdir(path + \"/TEST/O\")\n",
    "dirs_test_r = os.listdir(path + \"/TEST/R\")\n",
    "\n",
    "class_name = ['O', 'R']\n",
    "# Create training set\n",
    "x_train = []\n",
    "x_train.append(dirs_train_o)\n",
    "x_train.append(dirs_train_r)\n",
    "\n",
    "# Create testing test\n",
    "x_test = []\n",
    "x_test.append(dirs_test_o)\n",
    "x_test.append(dirs_test_r)\n",
    "\n",
    "def modify_image(dataset, pathname):\n",
    "    names = []\n",
    "    labels = []\n",
    "    for type in range(2):\n",
    "        for item in dataset[type]:\n",
    "            path_tmp = path + \"/\" + pathname + \"/\" + class_name[type] + \"/\"\n",
    "            if os.path.isfile(path_tmp+item):\n",
    "                im = Image.open(path_tmp+item)\n",
    "                imResize = im.resize((32, 32), Image.ANTIALIAS)\n",
    "                if imResize.mode != 'RGB':\n",
    "                    imResize = imResize.convert('RGB')\n",
    "                names.append(np.array(imResize).flatten())\n",
    "                labels.append(type)\n",
    "    return names, labels\n",
    "\n",
    "names_train, labels_train = modify_image(x_train, \"TRAIN\")\n",
    "names_test, labels_test = modify_image(x_test, \"TEST\")\n",
    "print(\"Done\")\n",
    "\n",
    "# Train\n",
    "x_train = np.array([np.array(fname) for fname in names_train])\n",
    "y_train = np.array(labels_train)\n",
    "\n",
    "# Test\n",
    "x_test = np.array([np.array(fname) for fname in names_test])\n",
    "y_test = np.array(labels_test)"
   ]
  },
  {
   "cell_type": "code",
   "execution_count": 4,
   "metadata": {},
   "outputs": [],
   "source": [
    "gnb = GaussianNB()\n",
    "gnb.fit(x_train, y_train)\n",
    "y_pred = gnb.predict(x_test)"
   ]
  },
  {
   "cell_type": "code",
   "execution_count": 5,
   "metadata": {},
   "outputs": [
    {
     "name": "stdout",
     "output_type": "stream",
     "text": [
      "0.7050487156775908 0.7158273381294964 0.7103971441320839 0.7417429367290092\n"
     ]
    }
   ],
   "source": [
    "acc_score = accuracy_score(y_test, y_pred)\n",
    "f1_score = f1_score(y_test, y_pred.round())\n",
    "recall_score = recall_score(y_test, y_pred.round())\n",
    "precision_score = precision_score(y_test, y_pred.round())\n",
    "print(precision_score, recall_score, f1_score, acc_score)"
   ]
  }
 ],
 "metadata": {
  "kernelspec": {
   "display_name": "Python 3",
   "language": "python",
   "name": "python3"
  },
  "language_info": {
   "codemirror_mode": {
    "name": "ipython",
    "version": 3
   },
   "file_extension": ".py",
   "mimetype": "text/x-python",
   "name": "python",
   "nbconvert_exporter": "python",
   "pygments_lexer": "ipython3",
   "version": "3.8.5"
  }
 },
 "nbformat": 4,
 "nbformat_minor": 4
}
