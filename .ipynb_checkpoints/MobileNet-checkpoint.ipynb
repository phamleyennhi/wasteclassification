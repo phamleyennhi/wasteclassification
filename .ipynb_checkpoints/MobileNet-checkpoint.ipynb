{
 "cells": [
  {
   "cell_type": "markdown",
   "metadata": {},
   "source": [
    "# Step 1: Installation and Setup"
   ]
  },
  {
   "cell_type": "code",
   "execution_count": 1,
   "metadata": {},
   "outputs": [],
   "source": [
    "import tensorflow as tf\n",
    "import numpy as np\n",
    "import pandas as pd\n",
    "import matplotlib.pyplot as plt\n",
    "from PIL import Image\n",
    "import os, sys\n",
    "from sklearn.metrics import accuracy_score, f1_score, recall_score, precision_score, classification_report\n",
    "from sklearn.model_selection import train_test_split\n",
    "import ssl\n",
    "from tensorflow.keras.layers import GlobalMaxPooling2D, Dense\n",
    "from tensorflow.keras.models import Model"
   ]
  },
  {
   "cell_type": "code",
   "execution_count": 2,
   "metadata": {},
   "outputs": [
    {
     "name": "stdout",
     "output_type": "stream",
     "text": [
      "Done\n"
     ]
    }
   ],
   "source": [
    "# Importing the dataset \n",
    "from PIL import Image\n",
    "import os, sys\n",
    "path = \".\"\n",
    "\n",
    "dirs_train_o = os.listdir(path + \"/TRAIN/O\")\n",
    "dirs_train_r = os.listdir(path + \"/TRAIN/R\")\n",
    "dirs_test_o = os.listdir(path + \"/TEST/O\")\n",
    "dirs_test_r = os.listdir(path + \"/TEST/R\")\n",
    "\n",
    "# Resize image using Pillow\n",
    "class_name = ['O', 'R']\n",
    "# Create training set\n",
    "x_train = []\n",
    "x_train.append(dirs_train_o)\n",
    "x_train.append(dirs_train_r)\n",
    "\n",
    "# Create testing test\n",
    "x_test = []\n",
    "x_test.append(dirs_test_o)\n",
    "x_test.append(dirs_test_r)\n",
    "\n",
    "def modify_image(dataset, pathname):\n",
    "  names = []\n",
    "  labels = []\n",
    "  for type in range(2):\n",
    "    for item in dataset[type]:\n",
    "      path_tmp = path + \"/\" + pathname + \"/\" + class_name[type] + \"/\"\n",
    "      if os.path.isfile(path_tmp+item):\n",
    "        im = Image.open(path_tmp+item)\n",
    "        imResize = im.resize((128, 128), Image.ANTIALIAS)\n",
    "        if imResize.mode != 'RGB':\n",
    "          imResize = imResize.convert('RGB')\n",
    "        names.append(imResize)\n",
    "        labels.append(type)\n",
    "  return names, labels\n",
    "\n",
    "names_train, labels_train = modify_image(x_train, \"TRAIN\")\n",
    "names_test, labels_test = modify_image(x_test, \"TEST\")\n",
    "print(\"Done\")"
   ]
  },
  {
   "cell_type": "code",
   "execution_count": 3,
   "metadata": {},
   "outputs": [],
   "source": [
    "# Train\n",
    "x_train = np.array([np.array(fname) for fname in names_train])\n",
    "y_train = np.array(labels_train)\n",
    "\n",
    "# Test\n",
    "x_test = np.array([np.array(fname) for fname in names_test])\n",
    "y_test = np.array(labels_test)"
   ]
  },
  {
   "cell_type": "code",
   "execution_count": 4,
   "metadata": {},
   "outputs": [
    {
     "name": "stdout",
     "output_type": "stream",
     "text": [
      "Model: \"sequential\"\n",
      "_________________________________________________________________\n",
      "Layer (type)                 Output Shape              Param #   \n",
      "=================================================================\n",
      "mobilenetv2_1.00_128 (Model) (None, 4, 4, 1280)        2257984   \n",
      "_________________________________________________________________\n",
      "global_average_pooling2d (Gl (None, 1280)              0         \n",
      "_________________________________________________________________\n",
      "dense (Dense)                (None, 1)                 1281      \n",
      "=================================================================\n",
      "Total params: 2,259,265\n",
      "Trainable params: 1,281\n",
      "Non-trainable params: 2,257,984\n",
      "_________________________________________________________________\n"
     ]
    }
   ],
   "source": [
    "mbnet_model = tf.keras.models.Sequential()\n",
    "mbnet_model.add(tf.keras.applications.MobileNetV2(include_top=False, weights=\"imagenet\", input_shape=(128,128,3)))\n",
    "mbnet_model.add(tf.keras.layers.GlobalAveragePooling2D())\n",
    "mbnet_model.add(Dense(1, activation='sigmoid'))\n",
    "mbnet_model.layers[0].trainable = False\n",
    "mbnet_model.summary()"
   ]
  },
  {
   "cell_type": "code",
   "execution_count": 5,
   "metadata": {},
   "outputs": [
    {
     "name": "stdout",
     "output_type": "stream",
     "text": [
      "Epoch 1/20\n",
      "1806/1806 [==============================] - 126s 70ms/step - loss: 0.4750 - accuracy: 0.7761 - val_loss: 0.4460 - val_accuracy: 0.7939\n",
      "Epoch 2/20\n",
      "1806/1806 [==============================] - 122s 67ms/step - loss: 0.4271 - accuracy: 0.8077 - val_loss: 0.4149 - val_accuracy: 0.8150\n",
      "Epoch 3/20\n",
      "1806/1806 [==============================] - 121s 67ms/step - loss: 0.4102 - accuracy: 0.8157 - val_loss: 0.4177 - val_accuracy: 0.8152\n",
      "Epoch 4/20\n",
      "1806/1806 [==============================] - 121s 67ms/step - loss: 0.4047 - accuracy: 0.8208 - val_loss: 0.4039 - val_accuracy: 0.8181\n",
      "Epoch 5/20\n",
      "1806/1806 [==============================] - 121s 67ms/step - loss: 0.3968 - accuracy: 0.8246 - val_loss: 0.4023 - val_accuracy: 0.8236\n",
      "Epoch 6/20\n",
      "1806/1806 [==============================] - 121s 67ms/step - loss: 0.3951 - accuracy: 0.8258 - val_loss: 0.3977 - val_accuracy: 0.8201\n",
      "Epoch 7/20\n",
      "1806/1806 [==============================] - 121s 67ms/step - loss: 0.3886 - accuracy: 0.8254 - val_loss: 0.4274 - val_accuracy: 0.8061\n",
      "Epoch 8/20\n",
      "1806/1806 [==============================] - 122s 68ms/step - loss: 0.3850 - accuracy: 0.8296 - val_loss: 0.4203 - val_accuracy: 0.8092\n",
      "Epoch 9/20\n",
      "1806/1806 [==============================] - 122s 67ms/step - loss: 0.3850 - accuracy: 0.8292 - val_loss: 0.4097 - val_accuracy: 0.8194\n",
      "Epoch 10/20\n",
      "1806/1806 [==============================] - 122s 68ms/step - loss: 0.3828 - accuracy: 0.8290 - val_loss: 0.4094 - val_accuracy: 0.8192\n",
      "Epoch 11/20\n",
      "1806/1806 [==============================] - 122s 68ms/step - loss: 0.3821 - accuracy: 0.8303 - val_loss: 0.4030 - val_accuracy: 0.8218\n",
      "Epoch 12/20\n",
      "1806/1806 [==============================] - 122s 67ms/step - loss: 0.3772 - accuracy: 0.8318 - val_loss: 0.4136 - val_accuracy: 0.8199\n",
      "Epoch 13/20\n",
      "1806/1806 [==============================] - 122s 68ms/step - loss: 0.3774 - accuracy: 0.8348 - val_loss: 0.4071 - val_accuracy: 0.8210\n",
      "Epoch 14/20\n",
      "1806/1806 [==============================] - 123s 68ms/step - loss: 0.3752 - accuracy: 0.8361 - val_loss: 0.4134 - val_accuracy: 0.8136\n",
      "Epoch 15/20\n",
      "1806/1806 [==============================] - 121s 67ms/step - loss: 0.3773 - accuracy: 0.8328 - val_loss: 0.4047 - val_accuracy: 0.8210\n",
      "Epoch 16/20\n",
      "1806/1806 [==============================] - 122s 68ms/step - loss: 0.3755 - accuracy: 0.8347 - val_loss: 0.4102 - val_accuracy: 0.8161\n",
      "Epoch 17/20\n",
      "1806/1806 [==============================] - 123s 68ms/step - loss: 0.3721 - accuracy: 0.8380 - val_loss: 0.4099 - val_accuracy: 0.8165\n",
      "Epoch 18/20\n",
      "1806/1806 [==============================] - 123s 68ms/step - loss: 0.3745 - accuracy: 0.8362 - val_loss: 0.4043 - val_accuracy: 0.8203\n",
      "Epoch 19/20\n",
      "1806/1806 [==============================] - 123s 68ms/step - loss: 0.3713 - accuracy: 0.8344 - val_loss: 0.4055 - val_accuracy: 0.8225\n",
      "Epoch 20/20\n",
      "1806/1806 [==============================] - 122s 68ms/step - loss: 0.3726 - accuracy: 0.8338 - val_loss: 0.4104 - val_accuracy: 0.8196\n"
     ]
    }
   ],
   "source": [
    "x_train, x_val, y_train, y_val = train_test_split(x_train, y_train, test_size=0.2, random_state=42)\n",
    "mbnet_model.compile(optimizer= 'Adam', loss='binary_crossentropy', metrics=['accuracy'])\n",
    "mbnet_history = mbnet_model.fit(x_train, y_train, batch_size=10, epochs=20, validation_data=(x_val, y_val))"
   ]
  },
  {
   "cell_type": "code",
   "execution_count": 7,
   "metadata": {},
   "outputs": [
    {
     "name": "stdout",
     "output_type": "stream",
     "text": [
      "79/79 [==============================] - 13s 162ms/step - loss: 0.3507 - accuracy: 0.8432\n",
      "Loss = 0.3507258892059326\n",
      "Test Accuracy = 0.84321528673172\n"
     ]
    },
    {
     "data": {
      "image/png": "[encoded data removed]",
      "text/plain": [
       "<Figure size 432x288 with 1 Axes>"
      ]
     },
     "metadata": {
      "needs_background": "light"
     },
     "output_type": "display_data"
    }
   ],
   "source": [
    "eval = mbnet_model.evaluate(x_test, y_test)\n",
    "print (\"Loss = \" + str(eval[0]))\n",
    "print (\"Test Accuracy = \" + str(eval[1]))\n",
    "\n",
    "y_pred = mbnet_model.predict(x_test)\n",
    "\n",
    "acc = mbnet_history.history['accuracy']\n",
    "val_acc = mbnet_history.history['val_accuracy']\n",
    "loss = mbnet_history.history['loss']\n",
    "val_loss = mbnet_history.history['val_loss']\n",
    "epochs = range(len(acc))\n",
    "plt.plot(epochs, acc, label=\"Training accuracy\")\n",
    "plt.plot(epochs, val_acc, label=\"Validation accuracy\")\n",
    "plt.ylabel(\"Accuracy\")\n",
    "plt.xlabel(\"Epoch\")\n",
    "plt.title(\"Training and Validation Accuracy - MobileNet\")\n",
    "plt.legend()\n",
    "plt.savefig(\"acc-MobileNet\")"
   ]
  },
  {
   "cell_type": "code",
   "execution_count": 8,
   "metadata": {},
   "outputs": [
    {
     "data": {
      "image/png": "[encoded data removed]",
      "text/plain": [
       "<Figure size 432x288 with 1 Axes>"
      ]
     },
     "metadata": {
      "needs_background": "light"
     },
     "output_type": "display_data"
    }
   ],
   "source": [
    "plt.plot(epochs, loss, label=\"Training loss\")\n",
    "plt.plot(epochs, val_loss, label=\"Validation loss\")\n",
    "plt.ylabel(\"Loss\")\n",
    "plt.xlabel(\"Epoch\")\n",
    "plt.title(\"Training and Validation Loss - MobileNet\")\n",
    "plt.legend()\n",
    "# plt.figure()\n",
    "plt.savefig(\"loss-MobileNet\")"
   ]
  },
  {
   "cell_type": "code",
   "execution_count": 9,
   "metadata": {},
   "outputs": [
    {
     "name": "stdout",
     "output_type": "stream",
     "text": [
      "0.8988888888888888 0.7275179856115108 0.8041749502982108 0.8432152805411859\n"
     ]
    }
   ],
   "source": [
    "acc_score = accuracy_score(y_test, y_pred.round())\n",
    "f1_score = f1_score(y_test, y_pred.round())\n",
    "recall_score = recall_score(y_test, y_pred.round())\n",
    "precision_score = precision_score(y_test, y_pred.round())\n",
    "print(precision_score, recall_score, f1_score, acc_score)"
   ]
  }
 ],
 "metadata": {
  "kernelspec": {
   "display_name": "Python 3",
   "language": "python",
   "name": "python3"
  },
  "language_info": {
   "codemirror_mode": {
    "name": "ipython",
    "version": 3
   },
   "file_extension": ".py",
   "mimetype": "text/x-python",
   "name": "python",
   "nbconvert_exporter": "python",
   "pygments_lexer": "ipython3",
   "version": "3.8.5"
  }
 },
 "nbformat": 4,
 "nbformat_minor": 4
}
